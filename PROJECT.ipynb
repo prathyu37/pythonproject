{
  "nbformat": 4,
  "nbformat_minor": 0,
  "metadata": {
    "colab": {
      "name": "PROJECT",
      "provenance": [],
      "collapsed_sections": []
    },
    "kernelspec": {
      "name": "python3",
      "display_name": "Python 3"
    }
  },
  "cells": [
    {
      "cell_type": "code",
      "metadata": {
        "id": "FxMk7I4rkJ4u",
        "colab_type": "code",
        "colab": {}
      },
      "source": [
        ""
      ],
      "execution_count": 0,
      "outputs": []
    },
    {
      "cell_type": "code",
      "metadata": {
        "colab_type": "code",
        "id": "4Xyg1Z-OkpKD",
        "colab": {}
      },
      "source": [
        "\n"
      ],
      "execution_count": 0,
      "outputs": []
    },
    {
      "cell_type": "markdown",
      "metadata": {
        "id": "u1SvEzMBkq3v",
        "colab_type": "text"
      },
      "source": [
        "**crud-create read and update deletr\n",
        "#wolfram\n",
        "#colaboratory\n",
        "### project name(application name-contact app)###\n",
        "* add a contact detail\n",
        "*search a contact detail\n",
        "*modify the contact detail\n",
        "*delete the contact detail"
      ]
    },
    {
      "cell_type": "code",
      "metadata": {
        "id": "zFd6JRr8G4V5",
        "colab_type": "code",
        "colab": {
          "base_uri": "https://localhost:8080/",
          "height": 68
        },
        "outputId": "0837b726-f331-4fc2-b52e-e43253d7374f"
      },
      "source": [
        "contact= {}#empty dict is created\n",
        "#lets create a function to add contac\n",
        "def addcontact(name,phone):\n",
        "    if name not in contact:\n",
        "        contact[name]=phone\n",
        "        print(\"name is successfully added\")\n",
        "    else:\n",
        "      print(\"name already exist\")\n",
        "    return contact\n",
        "addcontact('honeyyy','990897654')\n",
        "addcontact('pragna','768954893')\n",
        "\n"
      ],
      "execution_count": 9,
      "outputs": [
        {
          "output_type": "stream",
          "text": [
            "name is successfully added\n",
            "name is successfully added\n"
          ],
          "name": "stdout"
        },
        {
          "output_type": "execute_result",
          "data": {
            "text/plain": [
              "{'honeyyy': '990897654', 'pragna': '768954893'}"
            ]
          },
          "metadata": {
            "tags": []
          },
          "execution_count": 9
        }
      ]
    },
    {
      "cell_type": "code",
      "metadata": {
        "id": "ipvMioujY60c",
        "colab_type": "code",
        "colab": {
          "base_uri": "https://localhost:8080/",
          "height": 34
        },
        "outputId": "45d08c93-84ba-453b-e139-269b60d037c4"
      },
      "source": [
        "def searchcontact(name):\n",
        "    if name in contact:\n",
        "        print(name,\" : \",contact[name])\n",
        "    else:\n",
        "        print(name,'does not present')\n",
        "    return\n",
        "searchcontact('honeyyy')"
      ],
      "execution_count": 15,
      "outputs": [
        {
          "output_type": "stream",
          "text": [
            "honeyyy  :  990897654\n"
          ],
          "name": "stdout"
        }
      ]
    },
    {
      "cell_type": "code",
      "metadata": {
        "id": "FrwyzHJASZDk",
        "colab_type": "code",
        "colab": {
          "base_uri": "https://localhost:8080/",
          "height": 51
        },
        "outputId": "c41a71b4-c79d-4e1a-efd0-e7113ac320fb"
      },
      "source": [
        " def modifycontact(name,phone):\n",
        "     if name in contact:\n",
        "         contact[name]=phone\n",
        "         print(name,'updated successfully')\n",
        "         print(name ,\" : \",contact[name])\n",
        "     else:\n",
        "         print(name,\"does not exist\")\n",
        "     return    \n",
        " modifycontact('honeyyy','8639073947')"
      ],
      "execution_count": 22,
      "outputs": [
        {
          "output_type": "stream",
          "text": [
            "honeyyy updated successfully\n",
            "honeyyy  :  8639073947\n"
          ],
          "name": "stdout"
        }
      ]
    },
    {
      "cell_type": "code",
      "metadata": {
        "id": "nOdY6eqiV8mi",
        "colab_type": "code",
        "colab": {
          "base_uri": "https://localhost:8080/",
          "height": 51
        },
        "outputId": "171f5a28-016f-49a7-cfe4-b9f3c57b3ad1"
      },
      "source": [
        "def delete(name):\n",
        "    if name in contact:\n",
        "        contact.pop(name)\n",
        "        print(name,'deleted successfully')\n",
        "    else:\n",
        "        print('not exists')\n",
        "    return \n",
        "delete('pragna')\n",
        "contact"
      ],
      "execution_count": 26,
      "outputs": [
        {
          "output_type": "stream",
          "text": [
            "not exists\n"
          ],
          "name": "stdout"
        },
        {
          "output_type": "execute_result",
          "data": {
            "text/plain": [
              "{'honeyyy': '8639073947'}"
            ]
          },
          "metadata": {
            "tags": []
          },
          "execution_count": 26
        }
      ]
    },
    {
      "cell_type": "code",
      "metadata": {
        "id": "7y3TL9z2Xzb3",
        "colab_type": "code",
        "colab": {}
      },
      "source": [
        ""
      ],
      "execution_count": 0,
      "outputs": []
    }
  ]
}